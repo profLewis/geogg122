{
 "metadata": {
  "name": ""
 },
 "nbformat": 3,
 "nbformat_minor": 0,
 "worksheets": [
  {
   "cells": [
    {
     "cell_type": "heading",
     "level": 1,
     "metadata": {},
     "source": [
      "1. Introduction to Python"
     ]
    },
    {
     "cell_type": "markdown",
     "metadata": {},
     "source": [
      "[Python](http://www.python.org/) is a high level programming language that is freely available, relatively easy to learn and portable across different computing systems. In Python, you can rapidly develop solutions for the sorts of problems you might need to solve in your MSc courses and in the world beyond. Code written in Python is also easy to maintain, is (or should be) self-documented, and can easily be linked to code written in other languages.\n",
      "\n",
      "Relevant features include: \n",
      "\n",
      "- it is automatically compiled and executed \n",
      "- code is portable provided you have the appropriate Python modules. \n",
      "- for compute intensive tasks, you can easily make calls to methods written in (faster) lower-level languages such as C or FORTRAN \n",
      "- there is an active user and development community, which means that new capabilities appear over time and there are many existing extensions and enhancements easily available to you.\n",
      "\n",
      "For further background on Python, look over the material on [Advanced Scientific Programming in Python](https://python.g-node.org/wiki/schedule) and/or the [software-carpentry.org](http://software-carpentry.org/v3/py01.html) and [python.org](http://www.python.org/) web sites."
     ]
    },
    {
     "cell_type": "heading",
     "level": 2,
     "metadata": {},
     "source": [
      "1.1 Introduction"
     ]
    },
    {
     "cell_type": "markdown",
     "metadata": {},
     "source": [
      "In this session, you will be introduced to some of the basic concepts in Python."
     ]
    },
    {
     "cell_type": "heading",
     "level": 2,
     "metadata": {},
     "source": [
      "1.2 Running Python Programs"
     ]
    },
    {
     "cell_type": "markdown",
     "metadata": {},
     "source": [
      "### 1.2.1 Requirements\n",
      "\n",
      "For this course, we suggest you use the [anaconda](https://store.continuum.io/cshop/anaconda/) Python distribution (this is what is installed in the unix lab computers), though you are free to use whichever version of it you like on your own computers.\n",
      "\n",
      "If you are intending to use these notes on your opwn computer, you will need a relatively comprehensive installation of Python (such as that from [anaconda](https://store.continuum.io/cshop/anaconda/)), and will also need [GDAL](http://www.gdal.org/) installed for some of the work. You may also find it of value to have [git](http://git-scm.com/) installed.\n",
      "\n",
      "We are assuming that you are new to computing in this course, but that you are aware of the basic unix material covered in the previous lecture.\n"
     ]
    },
    {
     "cell_type": "markdown",
     "metadata": {},
     "source": [
      "### 1.2.2 Running Python  \n",
      "\n",
      "We will generally use the `ipython` interpreter for running interactive Python programs.\n",
      "\n",
      "You will probably want to run each session and store scripts in your `Data` (or `DATA`) directory.\n",
      "\n",
      "If you want to run the session directly in the notebook, you will need to download the course material from [github](https://github.com/profLewis/geogg122) and run the notebook with e.g.:\n",
      "\n",
      "```\n",
      "berlin% cd ~/Data\n",
      "berlin% git clone https://github.com/profLewis/geogg122.git\n",
      "```\n",
      "\n",
      "to obtain the notes. \n",
      "\n",
      "You should next check that you are using the version of Python that we intend:\n",
      "\n",
      "```\n",
      "berlin% which ipython\n",
      "/opt/anaconda/bin/ipython\n",
      "```\n",
      "\n",
      "If this isn't the version of Python that you are picking up (note the use of the unix command `which` here), then you can either just type the full path name:\n",
      "\n",
      "```\n",
      "berlin% /opt/anaconda/bin/ipython  \n",
      "```\n",
      "\n",
      "in place of where it says `ipython` in these notes, or modify your shell initialisation file (`~/.bashrc` if you are using `bash` or `~/.cshrc` for `tcsh` or `csh`) to include `/opt/anaconda/bin` early on in the `PATH`.\n",
      "\n",
      "To go to the directory for this session:  \n",
      "```\n",
      "berlin% cd ~/Data/geogg122/Chapter2_Python_intro\n",
      "berlin% ipython notebook python101.ipynb --pylab=inline\n",
      "```\n",
      "\n",
      "You quit an `ipython` notebook session with `^C` (`Control C`).\n",
      "\n",
      "To exectute ('run') blocks of Python code in the notebook, use `^<return>` (`SHIFT` and `RETURN` keys together).\n",
      "\n",
      "Alternatively, just run `ipython`:  \n",
      "```\n",
      "berlin% cd ~/Data/geogg122/Chapter2_Python_intro\n",
      "berlin% ipython --pylab=inline\n",
      "```\n",
      "\n",
      "and type your own commands in at the prompt, following the class or the material on the webpages.\n",
      "\n",
      "\n"
     ]
    },
    {
     "cell_type": "heading",
     "level": 2,
     "metadata": {},
     "source": [
      "1.3 Getting Started"
     ]
    },
    {
     "cell_type": "heading",
     "level": 3,
     "metadata": {},
     "source": [
      "1.3.1 Variables, Values and Data types"
     ]
    },
    {
     "cell_type": "markdown",
     "metadata": {},
     "source": [
      "The idea of **variables** is fundamental to any programming. You can think of this as the *name* of *something*, so it is a way of allowing us to refer to some object in the language.\n",
      "\n",
      "What the variable *is* set to is called its **value**.\n",
      "\n",
      "So let's start with a variable we will call (*declare to be*) `x`.\n",
      "\n",
      "We will give the *value* `1` to this variable:"
     ]
    },
    {
     "cell_type": "code",
     "collapsed": false,
     "input": [
      "x = 1"
     ],
     "language": "python",
     "metadata": {},
     "outputs": [],
     "prompt_number": 2
    },
    {
     "cell_type": "markdown",
     "metadata": {},
     "source": [
      "In a computing language, the *sort of thing* the variable can be set to is called its **data type**.\n",
      "\n",
      "In the example above, the datatype is an **integer** number (e.g. `1, 2, 3, 4`).\n",
      "\n",
      "In 'natural language', we might read the example above as 'x is one'.\n",
      "\n",
      "This is different to:"
     ]
    },
    {
     "cell_type": "code",
     "collapsed": false,
     "input": [
      "x = 'one'"
     ],
     "language": "python",
     "metadata": {},
     "outputs": [],
     "prompt_number": 3
    },
    {
     "cell_type": "markdown",
     "metadata": {},
     "source": [
      "because here we have set value of the variable `x` to a **string** (i.e. some text).\n",
      "\n",
      "This is different to:"
     ]
    },
    {
     "cell_type": "code",
     "collapsed": false,
     "input": [
      "x = 1.0"
     ],
     "language": "python",
     "metadata": {},
     "outputs": [],
     "prompt_number": 4
    },
    {
     "cell_type": "markdown",
     "metadata": {},
     "source": [
      "because here we have set value of the variable `x` to a **floating point** number (these are treated and stored differently to integers in computing).\n",
      "\n",
      "This is different to:"
     ]
    },
    {
     "cell_type": "code",
     "collapsed": false,
     "input": [
      "x = True"
     ],
     "language": "python",
     "metadata": {},
     "outputs": [],
     "prompt_number": 5
    },
    {
     "cell_type": "markdown",
     "metadata": {},
     "source": [
      "where `True` is a **logical** or **boolean** datatype (something is `True` or `False`).\n",
      "\n",
      "We have so far seen three datatypes:\n",
      "\n",
      "- integer (`int`): 32 bits long on most machines\n",
      "- (double-precision) floating point (`float`): (64 bits long)\n",
      "- Boolean (`bool`)\n",
      "- string (`str`)\n",
      "\n",
      "but we will come across more (and even create our own!) as we go through the course."
     ]
    },
    {
     "cell_type": "heading",
     "level": 4,
     "metadata": {},
     "source": [
      "type"
     ]
    },
    {
     "cell_type": "markdown",
     "metadata": {},
     "source": [
      "In each of these cases above, we have used the variable `x` to contain these different data types. If you want to know what the data type of a variable is, you can use the method `type()`"
     ]
    },
    {
     "cell_type": "code",
     "collapsed": false,
     "input": [
      "print type(1);\n",
      "print type(1.0);\n",
      "print type('one');\n",
      "print type(True);"
     ],
     "language": "python",
     "metadata": {},
     "outputs": [
      {
       "output_type": "stream",
       "stream": "stdout",
       "text": [
        "<type 'int'>\n",
        "<type 'float'>\n",
        "<type 'str'>\n",
        "<type 'bool'>\n"
       ]
      }
     ],
     "prompt_number": 16
    },
    {
     "cell_type": "heading",
     "level": 3,
     "metadata": {},
     "source": [
      "1.3.2 Arithmetic"
     ]
    },
    {
     "cell_type": "markdown",
     "metadata": {},
     "source": [
      "Often we will want to do some [arithmetic](http://www.tutorialspoint.com/python/python_basic_operators.htm) with numbers in a program, and we use the 'normal' (derived from C) operators for this.\n",
      "\n",
      "Note the way this works for integers and floating point representations."
     ]
    },
    {
     "cell_type": "code",
     "collapsed": false,
     "input": [
      "'''\n",
      "    Some examples of arithmetic operations in Python\n",
      "\n",
      "    Note how, if we mix float and int, the result is raised to float\n",
      "    (as the more general form)\n",
      "'''\n",
      "\n",
      "print 10 + 100     # int addition\n",
      "print 10. - 100    # float subtraction\n",
      "print 1./2.        # float division\n",
      "print 1/2          # int division\n",
      "print 10.*20.      # float multiplication\n",
      "print 2 ** 3.      # float exponent\n",
      "print 8%2          # int remainder\n",
      "\n",
      "print '========'\n",
      "# demonstration of floor (//) and remainder (%)\n",
      "number    = 9.5\n",
      "base      = 2.0\n",
      "remainder = number%base # float remainder\n",
      "floor     = number//base # 'floor' operation\n",
      "print number,'is',floor,'times',base,'plus',remainder"
     ],
     "language": "python",
     "metadata": {},
     "outputs": [
      {
       "output_type": "stream",
       "stream": "stdout",
       "text": [
        "110\n",
        "-90.0\n",
        "0.5\n",
        "0\n",
        "200.0\n",
        "8.0\n",
        "0\n",
        "========\n",
        "9.5 is 4.0 times 2.0 plus 1.5\n"
       ]
      }
     ],
     "prompt_number": 47
    },
    {
     "cell_type": "markdown",
     "metadata": {},
     "source": [
      "#### Exercise\n",
      "\n",
      "Change the numbers in the examples above to make sure you understand these basic operations.\n",
      "\n",
      "Try combining operations and use brackets () to check that that works as expected."
     ]
    },
    {
     "cell_type": "code",
     "collapsed": false,
     "input": [
      "'''\n",
      "    Assignment operators\n",
      "\n",
      "    x = 3   assigns the value 3 to the variable x\n",
      "    x += 2  adds 2 onto the value of x\n",
      "            so is the same as x = x + 2\n",
      "            similarly /=, *=, -=\n",
      "    x %= 2  is the same as x = x % 2\n",
      "    x **= 2 is the same as x = x ** 2\n",
      "    x //= 2 is the same as x = x // 2\n",
      "\n",
      "    A 'magic' trick\n",
      "    ===============\n",
      "\n",
      "    http://www.wikihow.com/Read-Someone\\\n",
      "        %27s-Mind-With-Math-%28Math-Trick%29\n",
      "\n",
      "    whatever you put as myNumber, the answer is 3\n",
      "\n",
      "    Try this with integers or floating point numbers ...\n",
      "'''\n",
      "\n",
      "# pick a number \n",
      "myNumber = 34.67\n",
      "\n",
      "# assign this to the variable x\n",
      "x = myNumber\n",
      "\n",
      "# multiply it by 2\n",
      "x *= 2\n",
      "\n",
      "# multiply this by 5\n",
      "x *= 5\n",
      "\n",
      "# divide by the original number\n",
      "x /= myNumber\n",
      "\n",
      "# subtract 7\n",
      "x -= 7\n",
      "\n",
      "# The answer will always be 3\n",
      "print x"
     ],
     "language": "python",
     "metadata": {},
     "outputs": [
      {
       "output_type": "stream",
       "stream": "stdout",
       "text": [
        "3.0\n"
       ]
      }
     ],
     "prompt_number": 84
    },
    {
     "cell_type": "code",
     "collapsed": false,
     "input": [
      "'''\n",
      "    Logical operators\n",
      "'''\n",
      "alive = True\n",
      "dead = not alive\n",
      "print 'dead or alive is',dead or alive\n",
      "print 'dead and alive is',dead and alive"
     ],
     "language": "python",
     "metadata": {},
     "outputs": [
      {
       "output_type": "stream",
       "stream": "stdout",
       "text": [
        "dead or alive is True\n",
        "dead and alive is False\n"
       ]
      }
     ],
     "prompt_number": 38
    },
    {
     "cell_type": "markdown",
     "metadata": {},
     "source": [
      "The result of running comparison operators will give a logical (i.e. `bool`) output.\n",
      "\n",
      "Most of this should be obvious, but consider carefully how this works for string data types."
     ]
    },
    {
     "cell_type": "code",
     "collapsed": false,
     "input": [
      "'''\n",
      "    Related, comparison operators:\n",
      "    \n",
      "    ==  : equvalence\n",
      "    !=  : not equivalent\n",
      "    >   : greater than\n",
      "    >=  : greater than or equal to\n",
      "    <   : less than\n",
      "    <=  : less than or equal to    \n",
      "'''\n",
      "\n",
      "print \"is one plus one equal to two?\"\n",
      "print 1 + 1 == 2\n",
      "\n",
      "print \"is one less than or equal to 0.999?\"\n",
      "print 1 <= 0.999\n",
      "\n",
      "print \"is one plus one not equal to two?\"\n",
      "print 1 + 1 != 2\n",
      "\n",
      "# note the use of double quotes inside a single quoted string here\n",
      "print 'is \"Hello\" not the same as \"hello\"?'\n",
      "print 'Hello' != 'hello'\n",
      "\n",
      "# note the use of single quotes inside a double quoted string here\n",
      "print \"is 'more' greater than 'less'?\"\n",
      "print \"more\" > \"less\"\n",
      "\n",
      "print \"is '100' less than '2'?\"\n",
      "print '100' < '2'\n",
      "\n",
      "print \"is 100 less than 2?\"\n",
      "print 100 < 2\n",
      "\n",
      "# a boolean example just to see what happens\n",
      "print \"is True greater than False?\"\n",
      "print True > False"
     ],
     "language": "python",
     "metadata": {},
     "outputs": [
      {
       "output_type": "stream",
       "stream": "stdout",
       "text": [
        "is one plus one equal to two?\n",
        "True\n",
        "is one less than or equal to 0.999?\n",
        "False\n",
        "is one plus one not equal to two?\n",
        "False\n",
        "is \"Hello\" not the same as \"hello\"?\n",
        "True\n",
        "is 'more' greater than 'less'?\n",
        "True\n",
        "is '100' less than '2'?\n",
        "True\n",
        "is 100 less than 2?\n",
        "False\n",
        "is True greater than False?\n",
        "True\n"
       ]
      }
     ],
     "prompt_number": 34
    },
    {
     "cell_type": "markdown",
     "metadata": {},
     "source": [
      "We can combine such logical statements, bracketing the terms as required:"
     ]
    },
    {
     "cell_type": "code",
     "collapsed": false,
     "input": [
      "print (1 < 2) and (True or False)"
     ],
     "language": "python",
     "metadata": {},
     "outputs": [
      {
       "output_type": "stream",
       "stream": "stdout",
       "text": [
        "True\n"
       ]
      }
     ],
     "prompt_number": 42
    },
    {
     "cell_type": "code",
     "collapsed": false,
     "input": [
      "# hunger threshold in hours\n",
      "hungerThreshold = 3.0\n",
      "# sleep threshold in hours\n",
      "sleepThreshold = 8.0\n",
      "\n",
      "# time since fed, in hours\n",
      "timeSinceFed = 4.0\n",
      "# time since sleep, in hours\n",
      "timeSinceSleep = 3.0\n",
      "\n",
      "# Note use of \\ as line continuation here\n",
      "#\u00a0It is poor style to have code lines > 79 characters\n",
      "#\n",
      "# see http://www.python.org/dev/peps/pep-0008/#maximum-line-length\n",
      "#\n",
      "print \"Tired and hungry?\",(timeSinceSleep >= sleepThreshold) and \\\n",
      "                            (timeSinceFed >= hungerThreshold)\n",
      "print \"Just tired?\",(timeSinceSleep >= sleepThreshold) and \\\n",
      "                            (not (timeSinceFed >= hungerThreshold))\n",
      "print \"Just hungry?\",(not (timeSinceSleep >= sleepThreshold)) and \\\n",
      "                            (timeSinceFed >= hungerThreshold)"
     ],
     "language": "python",
     "metadata": {},
     "outputs": [
      {
       "output_type": "stream",
       "stream": "stdout",
       "text": [
        "Tired and hungry? False\n",
        "Just tired? False\n",
        "Just hungry? True\n"
       ]
      }
     ],
     "prompt_number": 54
    },
    {
     "cell_type": "markdown",
     "metadata": {},
     "source": [
      "### Exercise 2.1\n",
      "\n",
      "The code above works fine, but the large blocks of logical tests are not very clear or readable, and contain repeated items.\n",
      "\n",
      "Modify this block of code to be clearer by assigning the individual logical tests to variables, \n",
      "\n",
      "e.g.\n",
      "\n",
      "`tired = timeSinceSleep >= sleepThreshold`"
     ]
    },
    {
     "cell_type": "code",
     "collapsed": false,
     "input": [
      "\n",
      "# For string comparisons, the elements of the string\n",
      "# are comapred as an ASCII sequence\n",
      "sep = \"--------------------------------\"\n",
      "\n",
      "'''\n",
      "    We can have refined control in strings\n",
      "    by using codes in the string to represent \n",
      "    the intended data types of values, e.g. \n",
      "        %d  :  integer\n",
      "        %s  :  string\n",
      "        %f  :  float\n",
      "    and then putting a form of list called a tuple\n",
      "    after the string, connecting them with %\n",
      "\n",
      "    We can also insert other control characters\n",
      "    such as:\n",
      "    \n",
      "        \\n  : newline\n",
      "        \\t  : tab\n",
      "'''\n"
     ],
     "language": "python",
     "metadata": {},
     "outputs": []
    },
    {
     "cell_type": "code",
     "collapsed": false,
     "input": [
      "'''\n",
      "    Explorations in binary!\n",
      "\n",
      "    We can represent:\n",
      "   \n",
      "    binary numbers, e.g.    0b010101\n",
      "    octal numbers, e.g.     0o755\n",
      "    hexadecimal, e.g.       0x2A2FF\n",
      "\n",
      "    but if we print these, \n",
      "    by default they are printed as the decimal equivalents.\n",
      "    \n",
      "    We can convert to binary, octal or hex string with \n",
      "    bin(), oct(), hex()\n",
      "'''\n",
      "x = 0b111101101\n",
      "print bin(x),'is',x,'in decimal'\n",
      "print bin(x),'is',oct(x),'in octal'\n",
      "print bin(x),'is',hex(x),'in hexadecimal'"
     ],
     "language": "python",
     "metadata": {},
     "outputs": [
      {
       "output_type": "stream",
       "stream": "stdout",
       "text": [
        "0b111101101 is 493 in decimal\n",
        "0b111101101 is 0755 in octal\n",
        "0b111101101 is 0x1ed in hexadecimal\n"
       ]
      }
     ],
     "prompt_number": 67
    },
    {
     "cell_type": "code",
     "collapsed": false,
     "input": [
      "'''\n",
      "    Bitwise operators: \n",
      "\n",
      "    You will come across a need for these a lot in data products\n",
      "    e.g. MOD09 QA\n",
      "'''\n",
      "# I have some 8 bit data with the value 213\n",
      "# I am told that the first 3 bits give me\n",
      "# a code relating to data quality\n",
      "data = 213\n",
      "print data,'as binary is',bin(data)\n",
      "\n",
      "# I generate a bit mask for the first 3 bits\n",
      "mask = 0b11100000\n",
      "\n",
      "# and logically and this with the data\n",
      "print bin(mask & data)\n",
      "\n",
      "# and right shift 5 bits\n",
      "print bin((mask & data)>>5)"
     ],
     "language": "python",
     "metadata": {},
     "outputs": [
      {
       "output_type": "stream",
       "stream": "stdout",
       "text": [
        "213 as binary is 0b11010101\n",
        "0b11000000\n",
        "0b110\n"
       ]
      }
     ],
     "prompt_number": 82
    },
    {
     "cell_type": "code",
     "collapsed": false,
     "input": [
      "loops\n",
      "conditional\n",
      "\n",
      "maybe:\n",
      "    \n",
      "lists, dict\n",
      "\n",
      "file handling\n",
      "\n",
      "\n",
      "+ some good exercises!!!\n",
      "\n",
      "parse config file to generate a url\n",
      "\n",
      "\n",
      "(modis lai and/or snow products or similar)"
     ],
     "language": "python",
     "metadata": {},
     "outputs": []
    }
   ],
   "metadata": {}
  }
 ]
}