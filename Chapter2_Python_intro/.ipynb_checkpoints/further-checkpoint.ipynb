{
 "metadata": {
  "name": ""
 },
 "nbformat": 3,
 "nbformat_minor": 0,
 "worksheets": [
  {
   "cells": [
    {
     "cell_type": "heading",
     "level": 2,
     "metadata": {},
     "source": [
      "A2.1 Binary Operators"
     ]
    },
    {
     "cell_type": "heading",
     "level": 3,
     "metadata": {},
     "source": [
      "A2.1.1 Basic Logic"
     ]
    },
    {
     "cell_type": "markdown",
     "metadata": {},
     "source": [
      "Quite often (data masks in data products, being the most typical example), you will need to deal with binary numbers and binary operations, so we will introduce the concepts you need here.\n",
      "\n",
      "This section of the notes is intended for follow-up after the class and future reference. We will not go through this in detail in the teaching sessions.\n",
      "\n",
      "We came across *logical* or *Boolean* operations in the main session (with the data type `bool`). In logic, something can be `True` or `False`, and operations such as [`not`](http://en.wikipedia.org/wiki/Logical_NOT), [`and`](http://en.wikipedia.org/wiki/Logical_AND) and [`or`](http://en.wikipedia.org/wiki/Logical_OR) have quite obvious meanings. More generally in logic (and electronics) we may come across other logical operators such as [`nand`](http://en.wikipedia.org/wiki/Logical_NAND) (`not and`) and [`nor`](http://en.wikipedia.org/wiki/Logical_NOR) (`not or`) and [`xor`](http://en.wikipedia.org/wiki/Logical_XOR) (exclusive `or`: *either but not both*), but these are not defined in Python (they can of course be *derived* though).\n",
      "\n",
      "You should first make sure that you understand the results of the `and`, `or` and `not` `bool` operators:"
     ]
    },
    {
     "cell_type": "code",
     "collapsed": false,
     "input": [
      "print 'False and False =',False and False\n",
      "print 'False and True  =',False and True\n",
      "print 'True  and False =',True and False\n",
      "print 'True  and True  =',True and True"
     ],
     "language": "python",
     "metadata": {},
     "outputs": [
      {
       "output_type": "stream",
       "stream": "stdout",
       "text": [
        "False and False = False\n",
        "False and True  = False\n",
        "True  and False = False\n",
        "True  and True  = True\n"
       ]
      }
     ],
     "prompt_number": 13
    },
    {
     "cell_type": "code",
     "collapsed": false,
     "input": [
      "print 'False or False =',False or False\n",
      "print 'False or True  =',False or True\n",
      "print 'True  or False =',True or False\n",
      "print 'True  or True  =',True or True"
     ],
     "language": "python",
     "metadata": {},
     "outputs": [
      {
       "output_type": "stream",
       "stream": "stdout",
       "text": [
        "False or False = False\n",
        "False or True  = True\n",
        "True  or False = True\n",
        "True  or True  = True\n"
       ]
      }
     ],
     "prompt_number": 14
    },
    {
     "cell_type": "code",
     "collapsed": false,
     "input": [
      "print 'not False =',not False\n",
      "print 'not True  =',not True"
     ],
     "language": "python",
     "metadata": {},
     "outputs": [
      {
       "output_type": "stream",
       "stream": "stdout",
       "text": [
        "not False = True\n",
        "not True  = False\n"
       ]
      }
     ],
     "prompt_number": 15
    },
    {
     "cell_type": "heading",
     "level": 3,
     "metadata": {},
     "source": [
      "Exercise A2.1"
     ]
    },
    {
     "cell_type": "markdown",
     "metadata": {},
     "source": [
      "As an exercise for this, you could see if you can simulate the logical combinations `xor`, `nor` and `nand`, e.g.:"
     ]
    },
    {
     "cell_type": "code",
     "collapsed": false,
     "input": [
      "# nand test:\n",
      "#\u00a0see http://en.wikipedia.org/wiki/Logical_NAND\n",
      "# (A nand B) is not (A and B)\n",
      "\n",
      "ABList = [(False,False),(False,True),(True,False),(True,True)]\n",
      "for A,B in ABList:\n",
      "  print '%s nand %s  ='%(str(A),str(B)),not (A and B)"
     ],
     "language": "python",
     "metadata": {},
     "outputs": [
      {
       "output_type": "stream",
       "stream": "stdout",
       "text": [
        "False nand False  = True\n",
        "False nand True  = True\n",
        "True nand False  = True\n",
        "True nand True  = False\n"
       ]
      }
     ],
     "prompt_number": 19
    },
    {
     "cell_type": "heading",
     "level": 3,
     "metadata": {},
     "source": [
      "A2.1.2 Binary"
     ]
    },
    {
     "cell_type": "heading",
     "level": 3,
     "metadata": {},
     "source": [
      "Endianness"
     ]
    },
    {
     "cell_type": "markdown",
     "metadata": {},
     "source": [
      "It is of value to have some understanding of binary operations and representation(s):\n",
      "\n",
      "- you will come across these in encoded data products (such as the QA information in MODIS and other satellite products) as it is a more efficient way of enconding multiple sets of logical information  \n",
      "- this is the form in which the computer ultimately stores and processes information, so it is useful to have some appreciation of that  \n",
      "- you will sometimes need to consider how large a number representation is (e.g. byte or short integer or long integer) as this can impact computer memory and storage requirements  \n",
      "- you may come across different binary representations for different datasets\n",
      "\n",
      "There are two main number representations used in computing, which depend on the interpretation of the  [MSB](http://en.wikipedia.org/wiki/Most_significant_bit), Most Significant Bit or 'high bit order' (or Byte) and [LSB](http://en.wikipedia.org/wiki/Least_significant_bit), Least Significant Bit or 'low bit order' (or Byte). \n",
      "\n",
      "Which system is used is sometimes refered to as ['endianness'](http://en.wikipedia.org/wiki/Endianness) so we may refer to a 'big-endian' or 'little-endian' representation. In a big-endian representation, the left-most byte represents the highest number. In a little-endian system, this is the lowest number.\n",
      "\n",
      "It is probably easiest to understand this with decimal numbers:\n",
      "\n",
      "So, in a big-endian decimal representation:\n",
      "\n",
      "    152\n",
      "    \n",
      "represents one hundred and fifty two (`(1 x 10^2) + (5 x 10^1) + (2 x 10^0)`)\n",
      "\n",
      "In a little-endian system, this is interpreted the other way around, so `152` is `(2 x 10^2) + (5 x 10^1) + (1 x 10^0)`, so is actually two hundred and fifty one.\n",
      "\n",
      "The term comes from Jonathan Swift's [Gulliver's travels](http://www.gutenberg.org/files/829/829-h/829-h.htm), if you are interested, refering to the which end of an egg the people of Lilliput and Blefuscu believe you should open:\n",
      "\n",
      "``\"(The people of Lilliput and Blefuscu have) been engaged in a most obstinate war for six-and-thirty moons past.  It began upon the following occasion.  It is allowed on all hands, that the primitive way of breaking eggs, before we eat them, was upon the larger end; but his present majesty\u2019s grandfather, while he was a boy, going to eat an egg, and breaking it according to the ancient practice, happened to cut one of his fingers.  Whereupon the emperor his father published an edict, commanding all his subjects, upon great penalties, to break the smaller end of their eggs.  The people so highly resented this law, that our histories tell us, there have been six rebellions raised on that account; wherein one emperor lost his life, and another his crown.  These civil commotions were constantly fomented by the monarchs of Blefuscu; and when they were quelled, the exiles always fled for refuge to that empire.  It is computed that eleven thousand persons have at several times suffered death, rather than submit to break their eggs at the smaller end.  Many hundred large volumes have been published upon this controversy: but the books of the Big-endians have been long forbidden, and the whole party rendered incapable by law of holding employments.\"``\n",
      "\n",
      "\n",
      "Endianness then (like which end of an egg you should break), is ultimately arbitrary, but we must still have conventions so that information on one computer system can be interpreted by another.\n",
      "\n",
      "At present, probably most computers you use will be little-endian (the 'Intel convention' as it has come to be known), but you may also come across data stored in big-endian (so-called 'Motorola convention') format. \n",
      "\n",
      "Endianness is mainly implemented at the byte level, so if you are considering a signle byte, which 'end you open the egg' has no consequence.\n",
      "\n",
      "For longer number representations though (e.g. a 2-byte or 4-byte integer) it can have significant consequences, and you need to be aware of the endianness of data that you might try to be reading. Many file formats will explicitly store the endinaness that data were written in, so a correct interpretation will be handled by low level reading routines. But, if you get binary data that are of more than one byte that look rather odd when you display them, one possible reason is that you have assumed a different endinaness to what the data were written in.\n"
     ]
    },
    {
     "cell_type": "heading",
     "level": 3,
     "metadata": {},
     "source": [
      "Binary numbers"
     ]
    },
    {
     "cell_type": "markdown",
     "metadata": {},
     "source": [
      "When we are working with *binary* numbers *for a single bit*, we represent `False` by `0` and `True` by `1`.\n",
      "\n",
      "In Python, these representations can essentially be used interchangably with logical operators, (but we use the function `bool()` to convert to a boolean representation)"
     ]
    },
    {
     "cell_type": "code",
     "collapsed": false,
     "input": [
      "print True or False"
     ],
     "language": "python",
     "metadata": {},
     "outputs": [
      {
       "output_type": "stream",
       "stream": "stdout",
       "text": [
        "True\n"
       ]
      }
     ],
     "prompt_number": 20
    },
    {
     "cell_type": "code",
     "collapsed": false,
     "input": [
      "print 1 or 0"
     ],
     "language": "python",
     "metadata": {},
     "outputs": [
      {
       "output_type": "stream",
       "stream": "stdout",
       "text": [
        "1\n"
       ]
      }
     ],
     "prompt_number": 23
    },
    {
     "cell_type": "code",
     "collapsed": false,
     "input": [
      "print bool(1 or 0)"
     ],
     "language": "python",
     "metadata": {},
     "outputs": [
      {
       "output_type": "stream",
       "stream": "stdout",
       "text": [
        "True\n"
       ]
      }
     ],
     "prompt_number": 22
    },
    {
     "cell_type": "code",
     "collapsed": false,
     "input": [
      "whatTheySay = True\n",
      "\n",
      "if whatTheySay:\n",
      "    print \"it's true what they say ...\"\n",
      "else:\n",
      "    print \"it's not true what they say ...\""
     ],
     "language": "python",
     "metadata": {},
     "outputs": [
      {
       "output_type": "stream",
       "stream": "stdout",
       "text": [
        "it's true what they say ...\n"
       ]
      }
     ],
     "prompt_number": 24
    },
    {
     "cell_type": "code",
     "collapsed": false,
     "input": [
      "whatTheySay = 1\n",
      "\n",
      "if whatTheySay:\n",
      "    print \"it's true what they say ...\"\n",
      "else:\n",
      "    print \"it's not true what they say ...\""
     ],
     "language": "python",
     "metadata": {},
     "outputs": [
      {
       "output_type": "stream",
       "stream": "stdout",
       "text": [
        "it's true what they say ...\n"
       ]
      }
     ],
     "prompt_number": 25
    },
    {
     "cell_type": "markdown",
     "metadata": {},
     "source": [
      "A binary representation of a number is a representation in [base 2](http://en.wikipedia.org/wiki/Binary_number), where we may use multiple [bits](http://en.wikipedia.org/wiki/Bit) to represent numbers.\n",
      "\n",
      "Some number representations (such as [floating point](http://en.wikipedia.org/wiki/IEEE_floating_point)) are stored in a more complicated manner, but [ASCII codes](http://www.asciitable.com/) for string representation and integers are in a more straightforward binary format.\n",
      "\n",
      "So, e.g. the (integer) **decimal** number 3 is `11` in binary (base 2):"
     ]
    },
    {
     "cell_type": "code",
     "collapsed": false,
     "input": [
      "3 == (1 * 2**1) + \\\n",
      "     (1 * 2**0)"
     ],
     "language": "python",
     "metadata": {},
     "outputs": [
      {
       "metadata": {},
       "output_type": "pyout",
       "prompt_number": 30,
       "text": [
        "True"
       ]
      }
     ],
     "prompt_number": 30
    },
    {
     "cell_type": "markdown",
     "metadata": {},
     "source": [
      "We can use the Python function `bin()` to get this more directly:"
     ]
    },
    {
     "cell_type": "code",
     "collapsed": false,
     "input": [
      "print bin(3)"
     ],
     "language": "python",
     "metadata": {},
     "outputs": [
      {
       "metadata": {},
       "output_type": "pyout",
       "prompt_number": 28,
       "text": [
        "'0b11'"
       ]
      }
     ],
     "prompt_number": 28
    },
    {
     "cell_type": "code",
     "collapsed": false,
     "input": [
      "print 0b11"
     ],
     "language": "python",
     "metadata": {},
     "outputs": [
      {
       "output_type": "stream",
       "stream": "stdout",
       "text": [
        "3\n"
       ]
      }
     ],
     "prompt_number": 32
    },
    {
     "cell_type": "markdown",
     "metadata": {},
     "source": [
      "Similarly, the decimal number `101` is `1100101` in binary:"
     ]
    },
    {
     "cell_type": "code",
     "collapsed": false,
     "input": [
      "101 ==  (1 * 2**6) + \\\n",
      "        (1 * 2**5) + \\\n",
      "        (0 * 2**4) + \\\n",
      "        (0 * 2**3) + \\\n",
      "        (1 * 2**2) + \\\n",
      "        (0 * 2**1) + \\\n",
      "        (1 * 2**0)"
     ],
     "language": "python",
     "metadata": {},
     "outputs": [
      {
       "metadata": {},
       "output_type": "pyout",
       "prompt_number": 34,
       "text": [
        "True"
       ]
      }
     ],
     "prompt_number": 34
    },
    {
     "cell_type": "code",
     "collapsed": false,
     "input": [
      "print bin(101)"
     ],
     "language": "python",
     "metadata": {},
     "outputs": [
      {
       "output_type": "stream",
       "stream": "stdout",
       "text": [
        "0b1100101\n"
       ]
      }
     ],
     "prompt_number": 33
    },
    {
     "cell_type": "heading",
     "level": 3,
     "metadata": {},
     "source": [
      "Exercise A2.2"
     ]
    },
    {
     "cell_type": "markdown",
     "metadata": {},
     "source": [
      "a. Work out what the following decimal numbers are in binary:\n",
      "\n",
      "    7  \n",
      "    493  \n",
      "    127    \n",
      "    255  \n",
      "    1024  \n",
      "\n",
      "  and check your result using the approach we took to confirming `101`:\n",
      "\n",
      "    101 ==  (1 * 2**6) + \\\n",
      "            (1 * 2**5) + \\\n",
      "            (0 * 2**4) + \\\n",
      "            (0 * 2**3) + \\\n",
      "            (1 * 2**2) + \\\n",
      "            (0 * 2**1) + \\\n",
      "            (1 * 2**0)\n",
      "        \n",
      "b. How many bits are needed to represent each of these numbers?\n",
      "\n",
      "c. What is the largest number you could represent in: (i) a 32 bit representation; (b) a 64 bit representation?\n",
      "\n",
      "d. Recalling that there are 8 bits in a [byte](http://en.wikipedia.org/wiki/Byte), what is the largest number you could represent in: (a) a single byte; (b) two bytes? "
     ]
    },
    {
     "cell_type": "code",
     "collapsed": false,
     "input": [
      "'''\n",
      "    Explorations in binary!\n",
      "\n",
      "    We can represent:\n",
      "   \n",
      "    binary numbers, e.g.    0b010101\n",
      "    octal numbers, e.g.     0o755\n",
      "    hexadecimal, e.g.       0x2A2FF\n",
      "\n",
      "    but if we print these, \n",
      "    by default they are printed as the decimal equivalents.\n",
      "    \n",
      "    We can convert to binary, octal or hex string with \n",
      "    bin(), oct(), hex()\n",
      "'''\n",
      "x = 0b111101101\n",
      "print bin(x),'is',x,'in decimal'\n",
      "print bin(x),'is',oct(x),'in octal'\n",
      "print bin(x),'is',hex(x),'in hexadecimal'"
     ],
     "language": "python",
     "metadata": {},
     "outputs": [
      {
       "output_type": "stream",
       "stream": "stdout",
       "text": [
        "0b111101101 is 493 in decimal\n",
        "0b111101101 is 0755 in octal\n",
        "0b111101101 is 0x1ed in hexadecimal\n"
       ]
      }
     ],
     "prompt_number": 2
    },
    {
     "cell_type": "heading",
     "level": 3,
     "metadata": {},
     "source": [
      "A2.1.2 Bitwise Operators"
     ]
    },
    {
     "cell_type": "markdown",
     "metadata": {},
     "source": [
      "In Python (and most other computer languages) you have access to bitwise operators. As you might expect, these are operators that are executed on individual bits in a binary representation of a number.\n",
      "\n",
      "The bitwise operators available in Python are:\n",
      "\n",
      "- `&` bitwise and\n",
      "- `|` bitwise or\n",
      "- `^` bitwise `xor` (exclusive or)\n",
      "- `~` bitwise ones complement\n",
      "- `<<` bitwise left shift\n",
      "- `>>` bitwise right shift\n",
      "\n",
      "\n",
      "The `&` operator simply performs a logical `and` operation on two sets of binary representations, so:\n",
      "\n",
      "    1 & 0 == 0\n",
      "    \n",
      "is the same as a logical `True and False` operation that we saw above .\n",
      "\n",
      "The `|` operator simply performs a logical `or` operation on two sets of binary representations, so:\n",
      "\n",
      "    1 | 0 == 1\n",
      "    \n",
      "is the same as a logical `True or False` operation that we saw above.\n",
      "\n",
      "Similarly, \n",
      "\n",
      "    1 ^ 0 == 1\n",
      "    1 ^ 1 == 0\n",
      "    \n",
      "and\n",
      "\n",
      "    ~1 == 0\n",
      "    ~0 == 1\n",
      "    \n",
      "These same rules apply then to all bit fields:\n",
      "\n",
      "    ~1010 == 0101\n",
      "    \n",
      "etc.\n",
      "\n",
      "The shift operators are interesting: \n",
      "\n",
      "left shift by 1, for example is equivalent to multiplying by 2, and right shift by 1 a division by 2.\n",
      "\n",
      "They are also very useful in sorting out 'bit masks' for data products."
     ]
    },
    {
     "cell_type": "code",
     "collapsed": false,
     "input": [
      "'''\n",
      "    Bitwise operators: \n",
      "'''\n",
      "\n",
      "A = 521\n",
      "B = 523\n",
      "# print as binary:\n",
      "print A,'\\tA:\\t',bin(A)\n",
      "print B,'\\tB:\\t',bin(B)\n",
      "\n",
      "# some operations\n",
      "print '\\tA | B:\\t',bin(A|B),'\\t',A|B\n",
      "print '\\tA ^ B:\\t',bin(A^B),'\\t\\t',A^B\n",
      "print '\\tA & B:\\t',bin(A&B),'\\t',A&B"
     ],
     "language": "python",
     "metadata": {},
     "outputs": [
      {
       "output_type": "stream",
       "stream": "stdout",
       "text": [
        "521 \tA:\t0b1000001001\n",
        "523 \tB:\t0b1000001011\n",
        "\tA | B:\t0b1000001011 \t523\n",
        "\tA ^ B:\t0b10 \t\t2\n",
        "\tA & B:\t0b1000001001 \t521\n"
       ]
      }
     ],
     "prompt_number": 58
    },
    {
     "cell_type": "code",
     "collapsed": false,
     "input": [
      "'''\n",
      "    Bitwise shift operators: \n",
      "'''\n",
      "\n",
      "A = 531\n",
      "print '\\tA:\\t',bin(A),'\\t',A\n",
      "print '\\tA>>1:\\t',bin(A>>1),'\\t',A>>1\n",
      "print '\\tA>>1:\\t',bin(A<<1),'\\t',A<<1\n",
      "print '\\tA>>3:\\t',bin(A>>3),'\\t',A>>3\n",
      "print '\\tA>>3:\\t',bin(A<<3),'\\t',A<<3"
     ],
     "language": "python",
     "metadata": {},
     "outputs": [
      {
       "output_type": "stream",
       "stream": "stdout",
       "text": [
        "\tA:\t0b1000010011 \t531\n",
        "\tA>>1:\t0b100001001 \t265\n",
        "\tA>>1:\t0b10000100110 \t1062\n",
        "\tA>>3:\t0b1000010 \t66\n",
        "\tA>>3:\t0b1000010011000 \t4248\n"
       ]
      }
     ],
     "prompt_number": 65
    },
    {
     "cell_type": "markdown",
     "metadata": {},
     "source": [
      "As an example of data masking, consider "
     ]
    },
    {
     "cell_type": "code",
     "collapsed": false,
     "input": [
      "'''\n",
      "    Bitwise operators: \n",
      "\n",
      "    You will come across a need for these a lot in data products\n",
      "    e.g. MOD09 QA\n",
      "'''\n",
      "# I have some 8 bit data with the value 213\n",
      "# I am told that the first 3 bits give me\n",
      "# a code relating to data quality\n",
      "data = 213\n",
      "print data,'as binary is',bin(data)\n",
      "\n",
      "# I generate a bit mask for the first 3 bits\n",
      "mask = 0b11100000\n",
      "\n",
      "# and logically and this with the data\n",
      "print bin(mask & data)\n",
      "\n",
      "# and right shift 5 bits\n",
      "print bin((mask & data)>>5)"
     ],
     "language": "python",
     "metadata": {},
     "outputs": [
      {
       "output_type": "stream",
       "stream": "stdout",
       "text": [
        "213 as binary is 0b11010101\n",
        "0b11000000\n",
        "0b110\n"
       ]
      }
     ],
     "prompt_number": 3
    },
    {
     "cell_type": "code",
     "collapsed": false,
     "input": [],
     "language": "python",
     "metadata": {},
     "outputs": []
    }
   ],
   "metadata": {}
  }
 ]
}