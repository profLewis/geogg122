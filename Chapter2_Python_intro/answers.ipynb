{
 "metadata": {
  "name": ""
 },
 "nbformat": 3,
 "nbformat_minor": 0,
 "worksheets": [
  {
   "cells": [
    {
     "cell_type": "heading",
     "level": 1,
     "metadata": {},
     "source": [
      "E2. Exercises"
     ]
    },
    {
     "cell_type": "markdown",
     "metadata": {},
     "source": [
      "This notebook contains answers and notes for the following exercises:\n",
      "\n",
      "- [Exercise 2.1]\n",
      "- [Exercise A2.1]"
     ]
    },
    {
     "cell_type": "heading",
     "level": 2,
     "metadata": {},
     "source": [
      "Exercise 2.1"
     ]
    },
    {
     "cell_type": "markdown",
     "metadata": {},
     "source": [
      "You were given some code:"
     ]
    },
    {
     "cell_type": "code",
     "collapsed": false,
     "input": [
      "# hunger threshold in hours\n",
      "hungerThreshold = 3.0\n",
      "# sleep threshold in hours\n",
      "sleepThreshold = 8.0\n",
      "\n",
      "# time since fed, in hours\n",
      "timeSinceFed = 4.0\n",
      "# time since sleep, in hours\n",
      "timeSinceSleep = 3.0\n",
      "\n",
      "# Note use of \\ as line continuation here\n",
      "# It is poor style to have code lines > 79 characters\n",
      "#\n",
      "# see http://www.python.org/dev/peps/pep-0008/#maximum-line-length\n",
      "#\n",
      "print \"Tired and hungry?\",(timeSinceSleep >= sleepThreshold) and \\\n",
      "                            (timeSinceFed >= hungerThreshold)\n",
      "print \"Just tired?\",(timeSinceSleep >= sleepThreshold) and \\\n",
      "                            (not (timeSinceFed >= hungerThreshold))\n",
      "print \"Just hungry?\",(not (timeSinceSleep >= sleepThreshold)) and \\\n",
      "                            (timeSinceFed >= hungerThreshold)"
     ],
     "language": "python",
     "metadata": {},
     "outputs": [
      {
       "output_type": "stream",
       "stream": "stdout",
       "text": [
        "Tired and hungry? False\n",
        "Just tired? False\n",
        "Just hungry? True\n"
       ]
      }
     ],
     "prompt_number": 1
    },
    {
     "cell_type": "markdown",
     "metadata": {},
     "source": [
      "The code above works fine, but the large blocks of logical tests are not very clear or readable, and contain repeated items.\n",
      "\n",
      "Modify this block of code to be clearer by assigning the individual logical tests to variables, \n",
      "\n",
      "e.g.\n",
      "\n",
      "`tired = timeSinceSleep >= sleepThreshold`"
     ]
    },
    {
     "cell_type": "heading",
     "level": 2,
     "metadata": {},
     "source": [
      "Answer"
     ]
    },
    {
     "cell_type": "markdown",
     "metadata": {},
     "source": [
      "This is quite easily made clearer, and is also improved by making sure you comment what you are doing.\n",
      "\n",
      "It is normally a good idea to put some information on what the purpose of the code is etc.\n",
      "\n",
      "It is also a good idea if you get into the practice of describing what changes you have made\n",
      "to the code from the original version that this is based on, to give full attribution.\n",
      "We will see that this is important with regard to plagiarism in coursework submission.\n",
      "\n",
      "Hasve a look at the [Python styleguide](http://www.python.org/dev/peps/pep-0008/#code-lay-out) for ideas on what makes good clear code.\n",
      "\n",
      "You wouldn't have been expected to do *all* of these things (the code below is mainly to give you some ideas for what to do next time!), but hopefully you will have at least set the variables:\n",
      "\n",
      "`tired  = (timeSinceSleep >= sleepThreshold)`  \n",
      "`hungry = (timeSinceFed >= hungerThreshold)`\n",
      "\n",
      "and used them in the code for greater clarity."
     ]
    },
    {
     "cell_type": "code",
     "collapsed": false,
     "input": [
      "\"\"\" Exercise 2.1 Scientific Computing\n",
      "    \n",
      "    Thu  3 Oct 2013 10:46:58 BST\n",
      "    \n",
      "    P. Lewis : p.lewis@ucl.ac.uk\n",
      "  \n",
      "    This code prints information on whether\n",
      "    I am tired and/or hungry.\n",
      "    \n",
      "    It is controlled by the variables:\n",
      "        timeSinceFed\n",
      "        timeSinceSleep\n",
      "        \n",
      "    which are checked against hunger and\n",
      "    sleep thresholds:\n",
      "        hungerThreshold\n",
      "        sleepThreshold\n",
      "        \n",
      "    All times given as float, in hours\n",
      "        \n",
      "        \n",
      "    It is a modification of the code in Exercise 2.1\n",
      "    of Scientific Computing (https://github.com/profLewis/geogg122)\n",
      "    \n",
      "    Edits made from original:\n",
      "        - added detailed comment strings\n",
      "        - neatened up the comments\n",
      "        - made code easier to read by setting variables\n",
      "          tired and hungry.\n",
      "        - added a new result for 'tired or hungry'\n",
      "        - added tabs (\\t) to the print statements to get\n",
      "          neater output formatting.\n",
      "          \n",
      "\"\"\"\n",
      "\n",
      "# Thresholds\n",
      "hungerThreshold = 3.0    # hunger threshold in hours\n",
      "sleepThreshold  = 8.0    # sleep threshold in hours\n",
      "\n",
      "# Control variables\n",
      "timeSinceFed   = 4.0     # time since fed, in hour\n",
      "timeSinceSleep = 3.0     # time since sleep, in hours\n",
      "\n",
      "# logical tests for tired and hungry\n",
      "tired  = (timeSinceSleep >= sleepThreshold)\n",
      "hungry = (timeSinceFed >= hungerThreshold)\n",
      "\n",
      "# print results\n",
      "print \"Tired and hungry?\\t\",  tired and hungry    \n",
      "print \"Tired or hungry?\\t\\t\", tired or hungry    \n",
      "print \"Just tired?\\t\\t\",      tired and not hungry\n",
      "print \"Just hungry?\\t\\t\",     hungry and not tired"
     ],
     "language": "python",
     "metadata": {},
     "outputs": [
      {
       "output_type": "stream",
       "stream": "stdout",
       "text": [
        "Tired and hungry?\tFalse\n",
        "Tired or hungry?\t\tTrue\n",
        "Just tired?\t\tFalse\n",
        "Just hungry?\t\tTrue\n"
       ]
      }
     ],
     "prompt_number": 11
    },
    {
     "cell_type": "markdown",
     "metadata": {},
     "source": [
      "### Exercise A2.1\n",
      "\n",
      "As an exercise for this, you could see if you can simulate the logical combinations `xor`, `nor` and `nand`, e.g.:"
     ]
    },
    {
     "cell_type": "code",
     "collapsed": false,
     "input": [
      "# nand test:\n",
      "# see http://en.wikipedia.org/wiki/Logical_NAND\n",
      "# (A nand B) is not (A and B)\n",
      "\n",
      "ABList = [(False,False),(False,True),(True,False),(True,True)]\n",
      "for A,B in ABList:\n",
      "  print '%s nand %s  ='%(str(A),str(B)),not (A and B)"
     ],
     "language": "python",
     "metadata": {},
     "outputs": [
      {
       "output_type": "stream",
       "stream": "stdout",
       "text": [
        "False nand False  = True\n",
        "False nand True  = True\n",
        "True nand False  = True\n",
        "True nand True  = False\n"
       ]
      }
     ],
     "prompt_number": 15
    },
    {
     "cell_type": "heading",
     "level": 3,
     "metadata": {},
     "source": [
      "Answer"
     ]
    },
    {
     "cell_type": "code",
     "collapsed": false,
     "input": [
      "\"\"\" Exercise 2.1 Scientific Computing\n",
      "    \n",
      "    Thu  3 Oct 2013 10:46:58 BST\n",
      "    \n",
      "    P. Lewis : p.lewis@ucl.ac.uk\n",
      "    \n",
      "    nand test\n",
      "    \n",
      "    see http://en.wikipedia.org/wiki/Logical_NAND\n",
      "\n",
      "    (A nand B) is not (A and B)\n",
      "    \n",
      "    It is a modification of the code in Exercise A2.1\n",
      "    of Scientific Computing (https://github.com/profLewis/geogg122)\n",
      "    \n",
      "    Edits made from original:\n",
      "        - neatened output format\n",
      "\"\"\"\n",
      "\n",
      "# set up a list of tuples to loop over\n",
      "ABList = [(False,False),(False,True),(True,False),(True,True)]\n",
      "\n",
      "# loop over tuples and print A xor B\n",
      "# with tabs (\\t) for neater output\n",
      "for A,B in ABList:\n",
      "  print '%s\\tnand\\t%s\\t='%(str(A),str(B)),not (A and B)"
     ],
     "language": "python",
     "metadata": {},
     "outputs": [
      {
       "output_type": "stream",
       "stream": "stdout",
       "text": [
        "False\tnand\tFalse\t= True\n",
        "False\tnand\tTrue\t= True\n",
        "True\tnand\tFalse\t= True\n",
        "True\tnand\tTrue\t= False\n"
       ]
      }
     ],
     "prompt_number": 18
    },
    {
     "cell_type": "code",
     "collapsed": false,
     "input": [
      "\"\"\" Exercise 2.1 Scientific Computing\n",
      "    \n",
      "    Thu  3 Oct 2013 10:46:58 BST\n",
      "    \n",
      "    P. Lewis : p.lewis@ucl.ac.uk\n",
      "    \n",
      "    nor test\n",
      "    \n",
      "    see http://en.wikipedia.org/wiki/Logical_NOR\n",
      "\n",
      "    (A nor B) is not (A or B)\n",
      "    \n",
      "    It is a modification of the code in Exercise A2.1\n",
      "    of Scientific Computing (https://github.com/profLewis/geogg122)\n",
      "    \n",
      "    Edits made from original:\n",
      "        - neatened output format\n",
      "        - modified from nand to nor\n",
      "\"\"\"\n",
      "\n",
      "# set up a list of tuples to loop over\n",
      "ABList = [(False,False),(False,True),(True,False),(True,True)]\n",
      "\n",
      "# loop over tuples and print A xor B\n",
      "# with tabs (\\t) for neater output\n",
      "for A,B in ABList:\n",
      "  print '%s\\tnor\\t%s\\t='%(str(A),str(B)),not (A or B)"
     ],
     "language": "python",
     "metadata": {},
     "outputs": [
      {
       "output_type": "stream",
       "stream": "stdout",
       "text": [
        "False\tnor\tFalse\t= True\n",
        "False\tnor\tTrue\t= False\n",
        "True\tnor\tFalse\t= False\n",
        "True\tnor\tTrue\t= False\n"
       ]
      }
     ],
     "prompt_number": 17
    },
    {
     "cell_type": "code",
     "collapsed": false,
     "input": [
      "\"\"\" Exercise 2.1 Scientific Computing\n",
      "    \n",
      "    Thu  3 Oct 2013 10:46:58 BST\n",
      "    \n",
      "    P. Lewis : p.lewis@ucl.ac.uk\n",
      "    \n",
      "    xor test\n",
      "    \n",
      "    see http://en.wikipedia.org/wiki/Logical_XOR\n",
      "\n",
      "    (A xor B) is (A or B) and not (A and B)\n",
      "    \n",
      "    It is a modification of the code in Exercise A2.1\n",
      "    of Scientific Computing (https://github.com/profLewis/geogg122)\n",
      "    \n",
      "    Edits made from original:\n",
      "        - neatened output format\n",
      "        - modified from nand to xor\n",
      "\"\"\"\n",
      "\n",
      "# set up a list of tuples to loop over\n",
      "ABList = [(False,False),(False,True),(True,False),(True,True)]\n",
      "\n",
      "# loop over tuples and print A xor B\n",
      "# with tabs (\\t) for neater output\n",
      "for A,B in ABList:\n",
      "  print '%s\\txor\\t%s\\t='%(str(A),str(B)),(A or B) and not (A and B)"
     ],
     "language": "python",
     "metadata": {},
     "outputs": [
      {
       "output_type": "stream",
       "stream": "stdout",
       "text": [
        "False\txor\tFalse\t= False\n",
        "False\txor\tTrue\t= True\n",
        "True\txor\tFalse\t= True\n",
        "True\txor\tTrue\t= False\n"
       ]
      }
     ],
     "prompt_number": 19
    },
    {
     "cell_type": "heading",
     "level": 3,
     "metadata": {},
     "source": [
      "Exercise A2.2"
     ]
    },
    {
     "cell_type": "markdown",
     "metadata": {},
     "source": [
      "a. Work out what the following decimal numbers are in binary:\n",
      "\n",
      "    7  \n",
      "    493  \n",
      "    127    \n",
      "    255  \n",
      "    1024  \n",
      "\n",
      "  and check your result using the approach we took to confirming `101`:\n",
      "\n",
      "    101 ==  (1 * 2**6) + \\\n",
      "            (1 * 2**5) + \\\n",
      "            (0 * 2**4) + \\\n",
      "            (0 * 2**3) + \\\n",
      "            (1 * 2**2) + \\\n",
      "            (0 * 2**1) + \\\n",
      "            (1 * 2**0)\n",
      "        \n",
      "b. How many bits are needed to represent each of these numbers?\n",
      "\n",
      "c. What is the largest number you could represent in: (i) a 32 bit representation; (b) a 64 bit representation?\n",
      "\n",
      "d. Recalling that there are 8 bits in a [byte](http://en.wikipedia.org/wiki/Byte), what is the largest number you could represent in: (a) a single byte; (b) two bytes? "
     ]
    },
    {
     "cell_type": "heading",
     "level": 3,
     "metadata": {},
     "source": [
      "Answer"
     ]
    },
    {
     "cell_type": "markdown",
     "metadata": {},
     "source": [
      "**a. Work out what the following decimal numbers are in binary:**\n",
      "\n",
      "7  \n",
      "493  \n",
      "127    \n",
      "255  \n",
      "1024  "
     ]
    },
    {
     "cell_type": "code",
     "collapsed": false,
     "input": [
      "for n in (7,493,127,255,1024):\n",
      "    print n,'\\tin binary is',bin(n)"
     ],
     "language": "python",
     "metadata": {},
     "outputs": [
      {
       "output_type": "stream",
       "stream": "stdout",
       "text": [
        "7 \tin binary is 0b111\n",
        "493 \tin binary is 0b111101101\n",
        "127 \tin binary is 0b1111111\n",
        "255 \tin binary is 0b11111111\n",
        "1024 \tin binary is 0b10000000000\n"
       ]
      }
     ],
     "prompt_number": 73
    },
    {
     "cell_type": "markdown",
     "metadata": {},
     "source": [
      "**check your result using the approach we took to confirming `101`:**\n",
      "\n",
      "Long-hand way:"
     ]
    },
    {
     "cell_type": "code",
     "collapsed": false,
     "input": [
      "7   ==  (1 * 2**2) + \\\n",
      "        (1 * 2**1) + \\\n",
      "        (1 * 2**0)"
     ],
     "language": "python",
     "metadata": {},
     "outputs": [
      {
       "metadata": {},
       "output_type": "pyout",
       "prompt_number": 74,
       "text": [
        "True"
       ]
      }
     ],
     "prompt_number": 74
    },
    {
     "cell_type": "code",
     "collapsed": false,
     "input": [
      "493 ==  (1 * 2**8) + \\\n",
      "        (1 * 2**7) + \\\n",
      "        (1 * 2**6) + \\\n",
      "        (1 * 2**5) + \\\n",
      "        (0 * 2**4) + \\\n",
      "        (1 * 2**3) + \\\n",
      "        (1 * 2**2) + \\\n",
      "        (0 * 2**1) + \\\n",
      "        (1 * 2**0)"
     ],
     "language": "python",
     "metadata": {},
     "outputs": [
      {
       "metadata": {},
       "output_type": "pyout",
       "prompt_number": 75,
       "text": [
        "True"
       ]
      }
     ],
     "prompt_number": 75
    },
    {
     "cell_type": "code",
     "collapsed": false,
     "input": [
      "127 ==  (1 * 2**6) + \\\n",
      "        (1 * 2**5) + \\\n",
      "        (1 * 2**4) + \\\n",
      "        (1 * 2**3) + \\\n",
      "        (1 * 2**2) + \\\n",
      "        (1 * 2**1) + \\\n",
      "        (1 * 2**0)"
     ],
     "language": "python",
     "metadata": {},
     "outputs": [
      {
       "metadata": {},
       "output_type": "pyout",
       "prompt_number": 76,
       "text": [
        "True"
       ]
      }
     ],
     "prompt_number": 76
    },
    {
     "cell_type": "code",
     "collapsed": false,
     "input": [
      "255 ==  (1 * 2**7) + \\\n",
      "        (1 * 2**6) + \\\n",
      "        (1 * 2**5) + \\\n",
      "        (1 * 2**4) + \\\n",
      "        (1 * 2**3) + \\\n",
      "        (1 * 2**2) + \\\n",
      "        (1 * 2**1) + \\\n",
      "        (1 * 2**0)"
     ],
     "language": "python",
     "metadata": {},
     "outputs": [
      {
       "metadata": {},
       "output_type": "pyout",
       "prompt_number": 77,
       "text": [
        "True"
       ]
      }
     ],
     "prompt_number": 77
    },
    {
     "cell_type": "code",
     "collapsed": false,
     "input": [
      "1024 == (1 * 2**10)+ \\\n",
      "        (0 * 2**9) + \\\n",
      "        (0 * 2**8) + \\\n",
      "        (0 * 2**7) + \\\n",
      "        (0 * 2**6) + \\\n",
      "        (0 * 2**5) + \\\n",
      "        (0 * 2**4) + \\\n",
      "        (0 * 2**3) + \\\n",
      "        (0 * 2**2) + \\\n",
      "        (0 * 2**1) + \\\n",
      "        (0 * 2**0)"
     ],
     "language": "python",
     "metadata": {},
     "outputs": [
      {
       "metadata": {},
       "output_type": "pyout",
       "prompt_number": 78,
       "text": [
        "True"
       ]
      }
     ],
     "prompt_number": 78
    },
    {
     "cell_type": "markdown",
     "metadata": {},
     "source": [
      "More automatic/advanced way (but more complicated coding):"
     ]
    },
    {
     "cell_type": "code",
     "collapsed": false,
     "input": [
      "# loop over numbers\n",
      "for n in (7,493,127,255,1024):\n",
      "    \n",
      "    # convert decimal to binary \n",
      "    # then convert to string and ignore 0b at start\n",
      "    binstr = bin(n)[2:]\n",
      "    \n",
      "    # initialise sum as accumulator\n",
      "    sum = 0\n",
      "    \n",
      "    # how many bits in this case?\n",
      "    nBits = len(binstr)\n",
      "    print n,'\\tin binary is',binstr,\": %d bits\"%nBits\n",
      "    \n",
      "    # loop over each bit\n",
      "    for c in xrange(nBits):\n",
      "        \n",
      "        # extract the bit and exponent\n",
      "        bit = int(binstr[-(c+1)])\n",
      "        exp = 2**c\n",
      "        sum += exp * bit\n",
      "        print '\\t %d x 2^%d = %d x %d \\t%d'%(bit,c,bit,exp,sum)\n",
      "    \n",
      "    print \"%d == %d?\"%(n,sum),n == sum    \n",
      "    print \"====================================\""
     ],
     "language": "python",
     "metadata": {},
     "outputs": [
      {
       "output_type": "stream",
       "stream": "stdout",
       "text": [
        "7 \tin binary is 111 : 3 bits\n",
        "\t 1 x 2^0 = 1 x 1 \t1\n",
        "\t 1 x 2^1 = 1 x 2 \t3\n",
        "\t 1 x 2^2 = 1 x 4 \t7\n",
        "7 == 7? True\n",
        "====================================\n",
        "493 \tin binary is 111101101 : 9 bits\n",
        "\t 1 x 2^0 = 1 x 1 \t1\n",
        "\t 0 x 2^1 = 0 x 2 \t1\n",
        "\t 1 x 2^2 = 1 x 4 \t5\n",
        "\t 1 x 2^3 = 1 x 8 \t13\n",
        "\t 0 x 2^4 = 0 x 16 \t13\n",
        "\t 1 x 2^5 = 1 x 32 \t45\n",
        "\t 1 x 2^6 = 1 x 64 \t109\n",
        "\t 1 x 2^7 = 1 x 128 \t237\n",
        "\t 1 x 2^8 = 1 x 256 \t493\n",
        "493 == 493? True\n",
        "====================================\n",
        "127 \tin binary is 1111111 : 7 bits\n",
        "\t 1 x 2^0 = 1 x 1 \t1\n",
        "\t 1 x 2^1 = 1 x 2 \t3\n",
        "\t 1 x 2^2 = 1 x 4 \t7\n",
        "\t 1 x 2^3 = 1 x 8 \t15\n",
        "\t 1 x 2^4 = 1 x 16 \t31\n",
        "\t 1 x 2^5 = 1 x 32 \t63\n",
        "\t 1 x 2^6 = 1 x 64 \t127\n",
        "127 == 127? True\n",
        "====================================\n",
        "255 \tin binary is 11111111 : 8 bits\n",
        "\t 1 x 2^0 = 1 x 1 \t1\n",
        "\t 1 x 2^1 = 1 x 2 \t3\n",
        "\t 1 x 2^2 = 1 x 4 \t7\n",
        "\t 1 x 2^3 = 1 x 8 \t15\n",
        "\t 1 x 2^4 = 1 x 16 \t31\n",
        "\t 1 x 2^5 = 1 x 32 \t63\n",
        "\t 1 x 2^6 = 1 x 64 \t127\n",
        "\t 1 x 2^7 = 1 x 128 \t255\n",
        "255 == 255? True\n",
        "====================================\n",
        "1024 \tin binary is 10000000000 : 11 bits\n",
        "\t 0 x 2^0 = 0 x 1 \t0\n",
        "\t 0 x 2^1 = 0 x 2 \t0\n",
        "\t 0 x 2^2 = 0 x 4 \t0\n",
        "\t 0 x 2^3 = 0 x 8 \t0\n",
        "\t 0 x 2^4 = 0 x 16 \t0\n",
        "\t 0 x 2^5 = 0 x 32 \t0\n",
        "\t 0 x 2^6 = 0 x 64 \t0\n",
        "\t 0 x 2^7 = 0 x 128 \t0\n",
        "\t 0 x 2^8 = 0 x 256 \t0\n",
        "\t 0 x 2^9 = 0 x 512 \t0\n",
        "\t 1 x 2^10 = 1 x 1024 \t1024\n",
        "1024 == 1024? True\n",
        "====================================\n"
       ]
      }
     ],
     "prompt_number": 79
    },
    {
     "cell_type": "markdown",
     "metadata": {},
     "source": [
      "If you enjoyed this part of the exercise ;-) , you could repeat this part of it, but using base 8 (octal) and or base 16 (hexadecimal), which you will often come across in computing. We might use octal e.g. in unix file permissions, or hexadecimal more widely in memory addresses (because it would be too long a number in binary!).\n",
      "\n",
      "e.g.:\n"
     ]
    },
    {
     "cell_type": "code",
     "collapsed": false,
     "input": [
      "n = 493\n",
      "# N.B, no 0b or 0x part on the string for octal, just a \n",
      "# leading 0\n",
      "octstr = oct(n)[1:]\n",
      "sum = 0\n",
      "# how many octets in this case? (assuming thats the right word)\n",
      "nOct = len(octstr)\n",
      "print n,'\\tin octal is',octstr,\": %d octets\"%nOct\n",
      "    \n",
      "# loop over each octets\n",
      "for c in xrange(nOct):\n",
      "    # extract the octet and exponent\n",
      "    octet = int(octstr[-(c+1)])\n",
      "    exp = 8**c\n",
      "    sum += exp * octet\n",
      "    print '\\t %d x 8^%d = %d x %d \\t%d'%(octet,c,octet,exp,sum)\n",
      "print \"%d == %d?\"%(n,sum),n == sum    \n",
      "print \"====================================\""
     ],
     "language": "python",
     "metadata": {},
     "outputs": [
      {
       "output_type": "stream",
       "stream": "stdout",
       "text": [
        "493 \tin octal is 755 : 3 octets\n",
        "\t 5 x 8^0 = 5 x 1 \t5\n",
        "\t 5 x 8^1 = 5 x 8 \t45\n",
        "\t 7 x 8^2 = 7 x 64 \t493\n",
        "493 == 493? True\n",
        "====================================\n"
       ]
      }
     ],
     "prompt_number": 101
    },
    {
     "cell_type": "markdown",
     "metadata": {},
     "source": [
      "**b. How many bits are needed to represent each of these numbers?**"
     ]
    },
    {
     "cell_type": "code",
     "collapsed": false,
     "input": [
      "# bin() converts to binary, but really its a string\n",
      "# the first 2 characters of which are '0b'\n",
      "# so find the length of the string other than the first two\n",
      "# characters\n",
      "\n",
      "for n in (7,493,127,255,1024):\n",
      "    binstr = bin(n)[2:]\n",
      "    print binstr,len(binstr),'bits'"
     ],
     "language": "python",
     "metadata": {},
     "outputs": [
      {
       "output_type": "stream",
       "stream": "stdout",
       "text": [
        "111 3 bits\n",
        "111101101 9 bits\n",
        "1111111 7 bits\n",
        "11111111 8 bits\n",
        "10000000000 11 bits\n"
       ]
      }
     ],
     "prompt_number": 72
    },
    {
     "cell_type": "markdown",
     "metadata": {},
     "source": [
      "**c. What is the largest number you could represent in: (i) a 32 bit representation; (b) a 64 bit representation?**"
     ]
    },
    {
     "cell_type": "markdown",
     "metadata": {},
     "source": [
      "In an *unsigned* integer representation, the largest number would be one with `1` in all bit fields.\n",
      "\n",
      "We *could* add this up, but it's faster to notice that this is one less than two to the power of the number of bits, e.g. the largest number with 8 bits is `2^8 - 1`:"
     ]
    },
    {
     "cell_type": "code",
     "collapsed": false,
     "input": [
      "print \"the largest (unsigned) integer with 8 bits (1 byte) is\",2**8 -1"
     ],
     "language": "python",
     "metadata": {},
     "outputs": [
      {
       "output_type": "stream",
       "stream": "stdout",
       "text": [
        "the largest (unsigned) integer with 8 bits (1 byte) is 255\n"
       ]
      }
     ],
     "prompt_number": 89
    },
    {
     "cell_type": "code",
     "collapsed": false,
     "input": [
      "print \"the largest (unsigned) integer with 32 bits is\",2**32 -1\n",
      "print \"the largest (unsigned) integer with 64 bits is\",2**64 -1"
     ],
     "language": "python",
     "metadata": {},
     "outputs": [
      {
       "output_type": "stream",
       "stream": "stdout",
       "text": [
        "the largest (unsigned) integer with 32 bits is 4294967295\n",
        "the largest (unsigned) integer with 64 bits is 18446744073709551615\n"
       ]
      }
     ],
     "prompt_number": 88
    },
    {
     "cell_type": "markdown",
     "metadata": {},
     "source": [
      "Sometimes, a *signed* integer representation is used, in which case the leftmost bit (usually) of the bit field is used to represent the *sign* (`0` meaning `+ve` and `1` meaning `-ve`), so e.g.:\n",
      "\n",
      "`011` would be +7 in decimal but  \n",
      "`111` would be -7 in decimal  \n",
      "\n",
      "This means that there is one fewer bit to represent the magnitude of the number, so e.g. with 8 bits (one byte) you have one bit for the sign, and 7 bits for magnitude:"
     ]
    },
    {
     "cell_type": "code",
     "collapsed": false,
     "input": [
      "print \"the largest  (signed) integer with 8 bits (1 byte) is\",+2**(8-1) -1\n",
      "print \"the smallest (signed) integer with 8 bits (1 byte) is\",-2**(8-1) +1"
     ],
     "language": "python",
     "metadata": {},
     "outputs": [
      {
       "output_type": "stream",
       "stream": "stdout",
       "text": [
        "the largest  (signed) integer with 8 bits (1 byte) is 127\n",
        "the smallest (signed) integer with 8 bits (1 byte) is -127\n"
       ]
      }
     ],
     "prompt_number": 92
    },
    {
     "cell_type": "markdown",
     "metadata": {},
     "source": [
      "Interestingly, in a signed integer representation, there are two numbers that represent zero:\n",
      "\n",
      "    000\n",
      "    100\n",
      "    \n",
      "which effectively mean `+0` and `-0`. In that sense, the signed representation is a little wasteful (but you only lose one number!)."
     ]
    },
    {
     "cell_type": "markdown",
     "metadata": {},
     "source": [
      "**d. Recalling that there are 8 bits in a [byte](http://en.wikipedia.org/wiki/Byte), what is the largest number you could represent in: (a) a single byte; (b) two bytes? **"
     ]
    },
    {
     "cell_type": "markdown",
     "metadata": {},
     "source": [
      "So, one byte is 8 bits.\n",
      "\n",
      "As we saw above, for an unsigned representation this can have integers from `0` to `255`.\n",
      "\n",
      "For a signed representation this can have integers from `-127` to `+127`.\n",
      "\n",
      "Two bytes is 16 bits, so:"
     ]
    },
    {
     "cell_type": "code",
     "collapsed": false,
     "input": [
      "print \"the largest (unsigned) integer with 16 bits (2 bytes) is\",2**16 -1\n",
      "print \"the largest   (signed) integer with 16 bits (2 bytes) is\",+2**(16-1) -1\n",
      "print \"the smallest  (signed) integer with 16 bits (2 bytes) is\",-2**(16-1) +1"
     ],
     "language": "python",
     "metadata": {},
     "outputs": [
      {
       "output_type": "stream",
       "stream": "stdout",
       "text": [
        "the largest (unsigned) integer with 16 bits (2 bytes) is 65535\n",
        "the largest   (signed) integer with 16 bits (2 bytes) is 32767\n",
        "the smallest  (signed) integer with 16 bits (2 bytes) is -32767\n"
       ]
      }
     ],
     "prompt_number": 94
    },
    {
     "cell_type": "code",
     "collapsed": false,
     "input": [],
     "language": "python",
     "metadata": {},
     "outputs": []
    }
   ],
   "metadata": {}
  }
 ]
}